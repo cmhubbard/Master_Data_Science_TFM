{
 "cells": [
  {
   "cell_type": "markdown",
   "id": "b5ed2880-9898-4b13-b88d-ec45c4353589",
   "metadata": {},
   "source": [
    "# DATOS\n",
    "\n",
    "En este notebook se genera el dataset y se exporta a csv con el que se trabajará para desarrollar el modelo de ML.\n",
    "\n",
    "También se hace una pequeña exploración de los datos.\n",
    "\n",
    "**Nota.-** En la función creada para generar los datos se ha tenido en cuenta un previo estudio de los datos que aparece en el notebook `review_new_conds.ipynb`."
   ]
  },
  {
   "cell_type": "markdown",
   "id": "13ba6e04-db9d-4e5c-b394-d11d45ddec69",
   "metadata": {},
   "source": [
    "Importamos las librerías:"
   ]
  },
  {
   "cell_type": "code",
   "execution_count": 1,
   "id": "be5ec1e4-fe01-455f-80d9-c1e796436584",
   "metadata": {},
   "outputs": [
    {
     "data": {
      "text/html": [
       "<style>.container{ width:98% }</style>"
      ],
      "text/plain": [
       "<IPython.core.display.HTML object>"
      ]
     },
     "metadata": {},
     "output_type": "display_data"
    }
   ],
   "source": [
    "# Permite ajustar la anchura de la parte útil de la libreta (reduce los márgenes)\n",
    "from IPython.display import display, HTML\n",
    "display(HTML(\"<style>.container{ width:98% }</style>\"))\n",
    "\n",
    "import numpy as np\n",
    "import pandas as pd\n",
    "import matplotlib as mpl\n",
    "import matplotlib.pyplot as plt\n",
    "from sklearn.linear_model import LinearRegression\n",
    "import re\n",
    "import os\n",
    "\n",
    "%config InlineBackend.figure_format = \"retina\""
   ]
  },
  {
   "cell_type": "markdown",
   "id": "79feb06c-444c-4be8-8e27-0bfdb25edec8",
   "metadata": {},
   "source": [
    "Creamos la función para generar los datos:"
   ]
  },
  {
   "cell_type": "code",
   "execution_count": 2,
   "id": "3d2ca4eb-3bcd-45d2-acea-654e3729d9e0",
   "metadata": {},
   "outputs": [
    {
     "name": "stderr",
     "output_type": "stream",
     "text": [
      "C:\\Users\\beca1\\AppData\\Local\\anaconda3\\Lib\\site-packages\\openpyxl\\worksheet\\_read_only.py:79: UserWarning: Data Validation extension is not supported and will be removed\n",
      "  for idx, row in parser.parse():\n"
     ]
    },
    {
     "name": "stdout",
     "output_type": "stream",
     "text": [
      "500mAh1-20S0C\n"
     ]
    },
    {
     "data": {
      "text/plain": [
       "('500mAh1-20S0C',\n",
       " 500,\n",
       " 20,\n",
       " 48.749,\n",
       " 2.0600000000001124,\n",
       " 3.74572754,\n",
       " 3.81225586,\n",
       " 3.74572754,\n",
       " 0.0015258799999999795,\n",
       " 0.002441409999999866,\n",
       " 3,\n",
       " 14.132766622030603)"
      ]
     },
     "execution_count": 2,
     "metadata": {},
     "output_type": "execute_result"
    }
   ],
   "source": [
    "# datos general de todas las baterias\n",
    "main=pd.read_excel('main.xlsx', sheet_name=-1)\n",
    "main = main.dropna(subset=['Observed Score'])\n",
    "# display(main)\n",
    "# Directorio que contiene los archivos .xlsx\n",
    "directorio = 'excel/'\n",
    "archivos = os.listdir(directorio)\n",
    "def severity_level(battery='500mAh1-20S0C'):\n",
    "    '''\n",
    "    Function to calculate the hazard severity level of a battery.\n",
    "    Weighted coeffitiens are wA = 2 * cSclase, wB = 3 * cSclase, wC = 2 * cSclase,\n",
    "    where cSclase = 95/6 and cOffset = 5 - cScale.\n",
    "    '''\n",
    "    battery=battery.replace('.xlsx', '')\n",
    "    print(battery)\n",
    "    # fila donde esta la info general\n",
    "    battery_row = main.loc[main['FileName'] == battery]\n",
    "    # capacidad y SOC de la bateria\n",
    "    # print(battery_row['Capacity'])\n",
    "    # print(battery_row['Capacity'].values)\n",
    "    # if (battery == 'OE-10Ahr-NMC-40SOC-cell5' or battery=='OE-LFP10Ah-100SOC-Cell16-original') or battery=='OE-LFP10Ah-100SOC-Cell16':\n",
    "    #     return None, None, None\n",
    "    capacity, SOC = battery_row['Capacity'].values[0], battery_row['SOC'].values[0]\n",
    "\n",
    "    # datos del experimento de la bateria\n",
    "    for i in archivos:\n",
    "        if battery.lower()+'.xlsx' == i.lower():\n",
    "            ruta_archivo = 'excel/'+battery+'.xlsx'\n",
    "            break\n",
    "    df = pd.read_excel(ruta_archivo,sheet_name=-1)\n",
    "    columnas_a_eliminar = df.filter(regex='Unnamed').columns\n",
    "    df = df.drop(columns=columnas_a_eliminar)\n",
    "    df = df.rename(columns={'Time (second)': 'TimeLoad (Sec)', 'Time (sec)': 'TimePenetr (Sec)','Time (sec) ': 'TimeTemp (sec)'})\n",
    "    # display(df)\n",
    "    maxTemp = np.max(df['TC1 (°C)'])\n",
    "    \n",
    "    # weighted parameters\n",
    "    cScale = 95/6\n",
    "    cOffset = 5 - cScale\n",
    "    wA, wB, wC = 2 * cScale, 3 * cScale, 2 * cScale\n",
    "    wCap = capacity /10_000 \n",
    "    wSOC = SOC / 100 \n",
    "    \n",
    "    # variables\n",
    "    idMaxTemp = df['TC1 (°C)'].idxmax()\n",
    "    idMinTempPrev = df['TC1 (°C)'].iloc[:idMaxTemp].idxmin()\n",
    "    \n",
    "    # temperature increase rate\n",
    "    tempIncreaseRate=0\n",
    "    for i in range(1,df.shape[0]):\n",
    "        aux = (df['TC1 (°C)'].iloc[i] - df['TC1 (°C)'].iloc[i-1]) / (df['TimeTemp (sec)'].iloc[i] - df['TimeTemp (sec)'].iloc[i-1])\n",
    "        if aux > tempIncreaseRate:\n",
    "            tempIncreaseRate = aux\n",
    "    \n",
    "    # values used for calculation of voltage drop score \n",
    "    initialVoltage = df['Cell Voltage (V)'].iloc[0]\n",
    "    voltageRange = df['Cell Voltage (V)'].max() - df['Cell Voltage (V)'].min()\n",
    "    \n",
    "    \n",
    "    ######################################################################\n",
    "    # indice del ultimo registro de la columna no nulo\n",
    "    last_valid_index = df['Voltage (V)'].last_valid_index()\n",
    "    # Accede al valor correspondiente en la columna\n",
    "    last_valid_value = df.at[last_valid_index, 'Voltage (V)']\n",
    "    finalVoltageChange =  initialVoltage - last_valid_value\n",
    "    ######################################################################\n",
    "    idPeakVoltage = df['Cell Voltage (V)'].idxmax()\n",
    "    fila_siguiente2 = df[df['TimePenetr (Sec)'] >= df['TimePenetr (Sec)'].iloc[idPeakVoltage] + 2].index.min()\n",
    "    voltageDrop2 = df['Cell Voltage (V)'].iloc[idPeakVoltage] -  df['Cell Voltage (V)'].iloc[fila_siguiente2]\n",
    "    fila_siguiente5 = df[df['TimePenetr (Sec)'] >= df['TimePenetr (Sec)'].iloc[idPeakVoltage] + 5].index.min()\n",
    "    voltageDrop5 = df['Cell Voltage (V)'].iloc[idPeakVoltage] -  df['Cell Voltage (V)'].iloc[fila_siguiente5]\n",
    "    \n",
    "    if maxTemp < 40:\n",
    "        return battery, capacity, SOC, maxTemp, tempIncreaseRate, initialVoltage, voltageRange, finalVoltageChange, voltageDrop2,voltageDrop5, 1, 5  \n",
    "    \n",
    "    elif maxTemp > 160:\n",
    "        return battery, capacity, SOC, maxTemp, tempIncreaseRate, initialVoltage, voltageRange, finalVoltageChange, voltageDrop2,voltageDrop5, 5, 100\n",
    "    \n",
    "    else:\n",
    "        pass\n",
    "    # voltage drop score\n",
    "    # print('voltageRange/initialVoltage',voltageRange/initialVoltage)\n",
    "    # print('finalVoltageChange/initialVoltage',finalVoltageChange/initialVoltage)\n",
    "    # print('voltageDrop5/initialVoltage',voltageDrop5/initialVoltage)\n",
    "    # print('voltageDrop2/initialVoltage',voltageDrop2/initialVoltage)\n",
    " \n",
    "    if (voltageRange/initialVoltage > 0.7 and finalVoltageChange / initialVoltage > 0.7) and voltageDrop5/initialVoltage > 0.7:\n",
    "        # fast voltage drop to an almost zero \n",
    "        # value in less than 5 seconds without any voltage recovery throughout the test\n",
    "        voltageDropScore = 5\n",
    "    elif voltageRange/initialVoltage > 0.5 and finalVoltageChange/initialVoltage < 0.2:\n",
    "        # voltage drop is >50%, but it recovers to a value close to the initial voltage\n",
    "        # cell voltage has significant change when the indenter applies load on cell, but voltage recovers close to initial voltage after test stops\n",
    "        # energy release due to voltage drop is trivial in a short interval, so time effect is not considered in the calculation\n",
    "        voltageDropScore = 2\n",
    "    elif voltageDrop2/initialVoltage >= 0.4 and finalVoltageChange/initialVoltage > 0.7:\n",
    "        # significant voltage drop is observed in 2 consecutive \n",
    "        # seconds, and the final measured voltage is also in a lower state \n",
    "        # even if a voltage recovery occurs shortly during the test.\n",
    "        voltageDropScore = 4\n",
    "    elif voltageDrop2/initialVoltage < 0.4 and finalVoltageChange/initialVoltage > 0.6:\n",
    "        # e voltage drops to a relatively small amount in 2 consecutive seconds \n",
    "        #  and recovers to the initial voltage but drops again significantly to a \n",
    "        # lower value\n",
    "        voltageDropScore = 3\n",
    "    elif voltageRange/initialVoltage < 0.5:\n",
    "        # a very small voltage change through the test\n",
    "        # This item fits with situation that cell voltage has little drop through the test, so time is excluded in the calculation since it has insignificant impact on voltage change.\n",
    "        voltageDropScore = 1\n",
    "    else:\n",
    "        print('Not able to calculate voltage drop score :( ')\n",
    "        return battery, capacity, SOC, maxTemp, tempIncreaseRate, initialVoltage, voltageRange, finalVoltageChange, voltageDrop2,voltageDrop5, None, None\n",
    "    \n",
    "    minimum = min([wA * (maxTemp/160)**0.25 + wB * (tempIncreaseRate / 200) + wC * wCap  * wSOC * voltageDropScore + cOffset, 100])\n",
    "    \n",
    "    return  battery, capacity, SOC, maxTemp, tempIncreaseRate, initialVoltage, voltageRange, finalVoltageChange, voltageDrop2,voltageDrop5, voltageDropScore, minimum \n",
    "\n",
    "severity_level()"
   ]
  },
  {
   "cell_type": "markdown",
   "id": "c90ad446-590a-46dd-85de-bd7edc9e6462",
   "metadata": {},
   "source": [
    "Generamos el dataframe:"
   ]
  },
  {
   "cell_type": "code",
   "execution_count": 3,
   "id": "1a96f54a-c197-44b7-acef-d1e5dcb76f0d",
   "metadata": {},
   "outputs": [
    {
     "name": "stdout",
     "output_type": "stream",
     "text": [
      "Sorteria-100SOC-cell1\n",
      "Sorteria-100SOC-cell2\n",
      "Sorteria-Control-100SOC-cell1\n",
      "Sorteria-Control-100SOC-cell2\n",
      "LCO-LP-6400mAh-100SOC-cell1\n",
      "LCO-LP-6400mAh-100SOC-cell2\n",
      "LCO-LP-6400mAh-80SOC-Cell3\n",
      "LCO-LP6400mAh-80SOC-cell4\n",
      "Soetria-80SOC-cell3\n",
      "Sorteria-Control-60SOC-cell1\n",
      "Soetria-Control-45SOC-cell1\n",
      "Sorteria-control-40SOC-cell2\n",
      "Sorteria-control-20SOC-cell1\n",
      "Soteria-control-30SOC-cell2\n",
      "Soteria-control-30SOC-cell1\n",
      "Soteria-control-10SOC-cell1\n",
      "Soteria-Control-0SOC-cell1\n",
      "Soteria-SCC-90SOC-cell1\n",
      "Soteria-SCC-80SOC-cell1\n",
      "Soteria-SCC-60SOC-cell1\n",
      "Soteria-SCC-20SOC-5180mAh\n",
      "OE-LCO-6470mAh-60SOC\n",
      "OE-LCO-6490mAh-60SOC\n",
      "OE-LCO-6270mAh-40SOC\n",
      "OE-LCO-6500mAh-20SOC\n",
      "OE-LCO-6560mAh-0SOC\n",
      "OE-LCO-6550mAh-20SOC\n",
      "OE-LCO-6500mAh-40SOC\n",
      "OE-LCO-6340mAh-0SOC\n",
      "OE-LCO-6400mAh-20SOC\n",
      "Soteria-SCC-5070-70SOC\n",
      "OE-LFP10Ah-0SOC-cell9\n",
      "OE-LFP10Ah-0SOC-cell10\n",
      "OE-LFP10Ah-40SOC-cell7\n",
      "OE-LFP10Ah-40SOC-cell8\n",
      "OE-LFP10Ah-70SOC-cell5\n",
      "OE-LFP10Ah-70SOC-cell6\n",
      "OE-LFP10Ah-80SOC-cell3\n",
      "OE-LFP10Ah-80SOC-cell4\n",
      "OE-10Ahr-NMC-70SOC-cell7\n",
      "OE-10Ahr-NMC-80SOC-cell8\n",
      "OE-10Ahr-NMC-80SOC-Cell9\n",
      "OE-10Ahr-NMC-100SOC-cell10\n",
      "OE-10Ahr-NMC-100SOC-cell11\n",
      "OE-LFP10Ah-100SOC-cell1\n",
      "OE-LFP10Ah-100SOC-cell2\n",
      "OE-LFP10Ah-100SOC-cell12\n",
      "Soteria-Control-50SOC\n",
      "Soteria-SCC-4160mAh-100SOC-8mm\n",
      "OE-10Ahr-NMC-70SOC-cell6\n",
      "OE-10AHr-NMC-40SOC-Cell4\n",
      "OE-10Ahr-NMC-40SOC-cell1\n",
      "OE-10Ahr-NMC-0SOC-cell1\n",
      "OE-10Ahr-NMC-0SOC-cell2\n",
      "OE-LFP10Ah-80SOC-Cell15\n",
      "LFP10Ah-60SOC-Cell17\n",
      "Soteria-SCC-4720mAh-40SOC\n",
      "Soteria-SCC-4700mAh-100SOC-12mm\n",
      "OE-LFP-cell14-60SOC-10Ah\n",
      "OE-LFP10Ah-80SOC-cell13\n",
      "OE-LFP10Ah-60SOC\n",
      "500mAh1-20S0C\n",
      "500mAh1-40S0C\n",
      "500mAh1-60S0C\n",
      "500mAh1-80S0C\n",
      "500mAh1-100S0C\n",
      "500mAh2-20S0C\n",
      "500mAh2-40S0C\n",
      "500mAh2-60S0C\n",
      "500mAh2-80S0C\n",
      "500mAh2-100S0C\n",
      "500mAh3-20S0C\n",
      "500mAh3-40S0C\n",
      "500mAh3-60S0C\n",
      "500mAh3-80S0C\n",
      "500mAh3-100S0C\n",
      "2000mAh1-20S0C\n",
      "2000mAh1-40S0C\n",
      "2000mAh1-60S0C\n",
      "2000mAh1-80S0C\n",
      "2000mAh1-100S0C\n",
      "2000mAh2-20S0C\n",
      "2000mAh2-40S0C\n",
      "2000mAh2-60S0C\n",
      "2000mAh2-80S0C\n",
      "2000mAh2-100S0C\n",
      "OE-NMC10Ah-60SOC\n",
      "OE-NMC10Ah-50SOC\n",
      "1500mAh1-20S0C\n",
      "1500mAh1-40S0C\n",
      "1500mAh1-60S0C\n",
      "1500mAh1-80S0C\n",
      "1500mAh1-100S0C\n",
      "1500mAh2-20S0C\n",
      "1500mAh2-40S0C\n",
      "1500mAh2-60S0C\n",
      "1500mAh2-80S0C\n",
      "1500mAh2-100S0C\n",
      "1500mAh3-20S0C\n",
      "1500mAh3-40S0C\n",
      "1500mAh3-60S0C\n",
      "1500mAh3-80S0C\n",
      "1500mAh3-100S0C\n",
      "OE-NMC10Ah-45SOC\n",
      "OE-NMC10Ah-20SOC\n",
      "Soteria-SCC-5050mAhr-100SOC\n",
      "Soteria-control-5100mAh-50SOC\n",
      "OE-NMC10Ah-20SOC-cell2\n",
      "OE-NMC10Ah-45SOC-cell2\n",
      "OE-LFP10Ah-20SOC\n",
      "Soteria-Control-5120mAh-50SOC\n",
      "Soteria-Control-5100mAh-55SOC\n",
      "Soteria-Control-5010mAh-20SOC\n",
      "Soteria-Control-5030mAh-10SOC\n",
      "Soteria-SCC-4870mah-0SOC\n",
      "Soteria-SCC-4630mAh-10SOC\n",
      "Soteria-SCC-5080mAh-20SOC\n",
      "Soteria-SCC-5170mAh-60SOC\n"
     ]
    }
   ],
   "source": [
    "data = {\n",
    "    'battery':[],\n",
    "    'capacity':[], \n",
    "    'SOC':[], \n",
    "    'maxTemp':[], \n",
    "    'tempIncreaseRate':[],\n",
    "    'initialVoltage':[], \n",
    "    'voltageRange':[], \n",
    "    'finalVoltageChange':[], \n",
    "    'voltageDrop2':[],\n",
    "    'voltageDrop5':[],\n",
    "    'voltageDropScore':[],\n",
    "    'OHS':[],\n",
    "    'CHS':[]\n",
    "}\n",
    "for i in range(len(main.FileName)):\n",
    "    if ('Copy' not in main.FileName[i]) or ('copy' not in main.FileName[i]):\n",
    "        valor = severity_level(main.FileName[i])\n",
    "        data['battery']+=[valor[0]]\n",
    "        data['capacity'] += [valor[1]]\n",
    "        data['SOC'] += [valor[2]]\n",
    "        data['maxTemp'] += [valor[3]]\n",
    "        data['tempIncreaseRate'] += [valor[4]]\n",
    "        data['initialVoltage'] += [valor[5]]\n",
    "        data['voltageRange'] += [valor[6]]\n",
    "        data['finalVoltageChange'] += [valor[7]]\n",
    "        data['voltageDrop2'] += [valor[8]]\n",
    "        data['voltageDrop5'] += [valor[9]]\n",
    "        data['voltageDropScore'] += [valor[10]]\n",
    "        data['OHS'] += [main['Observed Score.1'][i]]\n",
    "        data['CHS'] += [valor[11]]\n",
    "\n",
    "df_data = pd.DataFrame(data)"
   ]
  },
  {
   "cell_type": "markdown",
   "id": "8a6d2821-7964-4ed5-ae7f-50ce911d68fc",
   "metadata": {},
   "source": [
    "Añadimos una columna para la química (esto lo utilizaremos para el análisis de correlaciones):"
   ]
  },
  {
   "cell_type": "code",
   "execution_count": 4,
   "id": "ed9a71b8-76ad-4b23-9480-a95908c5b49f",
   "metadata": {
    "tags": []
   },
   "outputs": [],
   "source": [
    "df_data_sorted=df_data.sort_values(by='battery',ascending=True)\n",
    "baterias=df_data_sorted['battery'].values\n",
    "df_quim = df_data_sorted\n",
    "quimicas=[]\n",
    "for i in baterias:\n",
    "    # Grupo primero\n",
    "    if (i[:4] in ['1500','500m','2000']) or ('LCO' in i):\n",
    "        quimicas.append('LCO')\n",
    "    elif 'LFP' in i:\n",
    "        quimicas.append('LFP')\n",
    "    elif ('NMC' in i) or (i[:8] in ['Soteria-','Soetria-','Sorteria']):\n",
    "        quimicas.append('NMC')\n",
    "    else:\n",
    "        print(i)\n",
    "df_quim['chemistry']=quimicas"
   ]
  },
  {
   "cell_type": "code",
   "execution_count": 5,
   "id": "7968284c-3861-4fbb-a04c-88248ee26a68",
   "metadata": {},
   "outputs": [
    {
     "data": {
      "text/html": [
       "<div>\n",
       "<style scoped>\n",
       "    .dataframe tbody tr th:only-of-type {\n",
       "        vertical-align: middle;\n",
       "    }\n",
       "\n",
       "    .dataframe tbody tr th {\n",
       "        vertical-align: top;\n",
       "    }\n",
       "\n",
       "    .dataframe thead th {\n",
       "        text-align: right;\n",
       "    }\n",
       "</style>\n",
       "<table border=\"1\" class=\"dataframe\">\n",
       "  <thead>\n",
       "    <tr style=\"text-align: right;\">\n",
       "      <th></th>\n",
       "      <th>battery</th>\n",
       "      <th>capacity</th>\n",
       "      <th>SOC</th>\n",
       "      <th>maxTemp</th>\n",
       "      <th>tempIncreaseRate</th>\n",
       "      <th>initialVoltage</th>\n",
       "      <th>voltageRange</th>\n",
       "      <th>finalVoltageChange</th>\n",
       "      <th>voltageDrop2</th>\n",
       "      <th>voltageDrop5</th>\n",
       "      <th>voltageDropScore</th>\n",
       "      <th>OHS</th>\n",
       "      <th>CHS</th>\n",
       "      <th>chemistry</th>\n",
       "    </tr>\n",
       "  </thead>\n",
       "  <tbody>\n",
       "    <tr>\n",
       "      <th>92</th>\n",
       "      <td>1500mAh1-100S0C</td>\n",
       "      <td>1500</td>\n",
       "      <td>100</td>\n",
       "      <td>92.85700</td>\n",
       "      <td>4.030000</td>\n",
       "      <td>4.142151</td>\n",
       "      <td>4.157715</td>\n",
       "      <td>4.089661</td>\n",
       "      <td>0.001221</td>\n",
       "      <td>0.001221</td>\n",
       "      <td>3</td>\n",
       "      <td>2.0</td>\n",
       "      <td>32.013027</td>\n",
       "      <td>LCO</td>\n",
       "    </tr>\n",
       "    <tr>\n",
       "      <th>88</th>\n",
       "      <td>1500mAh1-20S0C</td>\n",
       "      <td>1500</td>\n",
       "      <td>20</td>\n",
       "      <td>83.96100</td>\n",
       "      <td>3.535000</td>\n",
       "      <td>3.747559</td>\n",
       "      <td>3.786621</td>\n",
       "      <td>3.735352</td>\n",
       "      <td>0.001831</td>\n",
       "      <td>0.001831</td>\n",
       "      <td>3</td>\n",
       "      <td>2.0</td>\n",
       "      <td>19.808276</td>\n",
       "      <td>LCO</td>\n",
       "    </tr>\n",
       "    <tr>\n",
       "      <th>89</th>\n",
       "      <td>1500mAh1-40S0C</td>\n",
       "      <td>1500</td>\n",
       "      <td>40</td>\n",
       "      <td>92.17600</td>\n",
       "      <td>3.695000</td>\n",
       "      <td>3.785706</td>\n",
       "      <td>3.793030</td>\n",
       "      <td>3.760681</td>\n",
       "      <td>0.001831</td>\n",
       "      <td>0.001526</td>\n",
       "      <td>3</td>\n",
       "      <td>2.0</td>\n",
       "      <td>23.332649</td>\n",
       "      <td>LCO</td>\n",
       "    </tr>\n",
       "    <tr>\n",
       "      <th>90</th>\n",
       "      <td>1500mAh1-60S0C</td>\n",
       "      <td>1500</td>\n",
       "      <td>60</td>\n",
       "      <td>93.19600</td>\n",
       "      <td>3.675000</td>\n",
       "      <td>3.858948</td>\n",
       "      <td>3.858643</td>\n",
       "      <td>3.815918</td>\n",
       "      <td>0.001526</td>\n",
       "      <td>0.001221</td>\n",
       "      <td>3</td>\n",
       "      <td>2.0</td>\n",
       "      <td>26.253906</td>\n",
       "      <td>LCO</td>\n",
       "    </tr>\n",
       "    <tr>\n",
       "      <th>91</th>\n",
       "      <td>1500mAh1-80S0C</td>\n",
       "      <td>1500</td>\n",
       "      <td>80</td>\n",
       "      <td>93.12700</td>\n",
       "      <td>3.470000</td>\n",
       "      <td>3.988953</td>\n",
       "      <td>3.966064</td>\n",
       "      <td>3.934937</td>\n",
       "      <td>0.001831</td>\n",
       "      <td>0.002136</td>\n",
       "      <td>3</td>\n",
       "      <td>2.0</td>\n",
       "      <td>29.050096</td>\n",
       "      <td>LCO</td>\n",
       "    </tr>\n",
       "    <tr>\n",
       "      <th>...</th>\n",
       "      <td>...</td>\n",
       "      <td>...</td>\n",
       "      <td>...</td>\n",
       "      <td>...</td>\n",
       "      <td>...</td>\n",
       "      <td>...</td>\n",
       "      <td>...</td>\n",
       "      <td>...</td>\n",
       "      <td>...</td>\n",
       "      <td>...</td>\n",
       "      <td>...</td>\n",
       "      <td>...</td>\n",
       "      <td>...</td>\n",
       "      <td>...</td>\n",
       "    </tr>\n",
       "    <tr>\n",
       "      <th>17</th>\n",
       "      <td>Soteria-SCC-90SOC-cell1</td>\n",
       "      <td>5180</td>\n",
       "      <td>90</td>\n",
       "      <td>30.77271</td>\n",
       "      <td>1.259624</td>\n",
       "      <td>4.084000</td>\n",
       "      <td>0.023000</td>\n",
       "      <td>0.015000</td>\n",
       "      <td>0.003000</td>\n",
       "      <td>0.002000</td>\n",
       "      <td>1</td>\n",
       "      <td>1.0</td>\n",
       "      <td>5.000000</td>\n",
       "      <td>NMC</td>\n",
       "    </tr>\n",
       "    <tr>\n",
       "      <th>15</th>\n",
       "      <td>Soteria-control-10SOC-cell1</td>\n",
       "      <td>5190</td>\n",
       "      <td>10</td>\n",
       "      <td>134.91430</td>\n",
       "      <td>179.660100</td>\n",
       "      <td>3.452000</td>\n",
       "      <td>3.186000</td>\n",
       "      <td>3.184000</td>\n",
       "      <td>0.004000</td>\n",
       "      <td>0.006000</td>\n",
       "      <td>3</td>\n",
       "      <td>4.0</td>\n",
       "      <td>67.111420</td>\n",
       "      <td>NMC</td>\n",
       "    </tr>\n",
       "    <tr>\n",
       "      <th>14</th>\n",
       "      <td>Soteria-control-30SOC-cell1</td>\n",
       "      <td>5190</td>\n",
       "      <td>30</td>\n",
       "      <td>146.18850</td>\n",
       "      <td>119.388600</td>\n",
       "      <td>3.646000</td>\n",
       "      <td>3.246000</td>\n",
       "      <td>3.243000</td>\n",
       "      <td>0.001000</td>\n",
       "      <td>0.079000</td>\n",
       "      <td>3</td>\n",
       "      <td>5.0</td>\n",
       "      <td>63.272938</td>\n",
       "      <td>NMC</td>\n",
       "    </tr>\n",
       "    <tr>\n",
       "      <th>13</th>\n",
       "      <td>Soteria-control-30SOC-cell2</td>\n",
       "      <td>5190</td>\n",
       "      <td>30</td>\n",
       "      <td>133.96740</td>\n",
       "      <td>94.822388</td>\n",
       "      <td>3.612000</td>\n",
       "      <td>2.978000</td>\n",
       "      <td>2.967000</td>\n",
       "      <td>0.008000</td>\n",
       "      <td>0.009000</td>\n",
       "      <td>3</td>\n",
       "      <td>5.0</td>\n",
       "      <td>56.770079</td>\n",
       "      <td>NMC</td>\n",
       "    </tr>\n",
       "    <tr>\n",
       "      <th>106</th>\n",
       "      <td>Soteria-control-5100mAh-50SOC</td>\n",
       "      <td>5100</td>\n",
       "      <td>50</td>\n",
       "      <td>150.24270</td>\n",
       "      <td>104.481782</td>\n",
       "      <td>3.751000</td>\n",
       "      <td>3.766000</td>\n",
       "      <td>3.756000</td>\n",
       "      <td>0.007000</td>\n",
       "      <td>0.010000</td>\n",
       "      <td>3</td>\n",
       "      <td>6.0</td>\n",
       "      <td>69.378523</td>\n",
       "      <td>NMC</td>\n",
       "    </tr>\n",
       "  </tbody>\n",
       "</table>\n",
       "<p>118 rows × 14 columns</p>\n",
       "</div>"
      ],
      "text/plain": [
       "                           battery  capacity  SOC    maxTemp  \\\n",
       "92                 1500mAh1-100S0C      1500  100   92.85700   \n",
       "88                  1500mAh1-20S0C      1500   20   83.96100   \n",
       "89                  1500mAh1-40S0C      1500   40   92.17600   \n",
       "90                  1500mAh1-60S0C      1500   60   93.19600   \n",
       "91                  1500mAh1-80S0C      1500   80   93.12700   \n",
       "..                             ...       ...  ...        ...   \n",
       "17         Soteria-SCC-90SOC-cell1      5180   90   30.77271   \n",
       "15     Soteria-control-10SOC-cell1      5190   10  134.91430   \n",
       "14     Soteria-control-30SOC-cell1      5190   30  146.18850   \n",
       "13     Soteria-control-30SOC-cell2      5190   30  133.96740   \n",
       "106  Soteria-control-5100mAh-50SOC      5100   50  150.24270   \n",
       "\n",
       "     tempIncreaseRate  initialVoltage  voltageRange  finalVoltageChange  \\\n",
       "92           4.030000        4.142151      4.157715            4.089661   \n",
       "88           3.535000        3.747559      3.786621            3.735352   \n",
       "89           3.695000        3.785706      3.793030            3.760681   \n",
       "90           3.675000        3.858948      3.858643            3.815918   \n",
       "91           3.470000        3.988953      3.966064            3.934937   \n",
       "..                ...             ...           ...                 ...   \n",
       "17           1.259624        4.084000      0.023000            0.015000   \n",
       "15         179.660100        3.452000      3.186000            3.184000   \n",
       "14         119.388600        3.646000      3.246000            3.243000   \n",
       "13          94.822388        3.612000      2.978000            2.967000   \n",
       "106        104.481782        3.751000      3.766000            3.756000   \n",
       "\n",
       "     voltageDrop2  voltageDrop5  voltageDropScore  OHS        CHS chemistry  \n",
       "92       0.001221      0.001221                 3  2.0  32.013027       LCO  \n",
       "88       0.001831      0.001831                 3  2.0  19.808276       LCO  \n",
       "89       0.001831      0.001526                 3  2.0  23.332649       LCO  \n",
       "90       0.001526      0.001221                 3  2.0  26.253906       LCO  \n",
       "91       0.001831      0.002136                 3  2.0  29.050096       LCO  \n",
       "..            ...           ...               ...  ...        ...       ...  \n",
       "17       0.003000      0.002000                 1  1.0   5.000000       NMC  \n",
       "15       0.004000      0.006000                 3  4.0  67.111420       NMC  \n",
       "14       0.001000      0.079000                 3  5.0  63.272938       NMC  \n",
       "13       0.008000      0.009000                 3  5.0  56.770079       NMC  \n",
       "106      0.007000      0.010000                 3  6.0  69.378523       NMC  \n",
       "\n",
       "[118 rows x 14 columns]"
      ]
     },
     "execution_count": 5,
     "metadata": {},
     "output_type": "execute_result"
    }
   ],
   "source": [
    "df_quim"
   ]
  },
  {
   "cell_type": "markdown",
   "id": "9e5d1ac7-aa98-4160-86c7-79d889e9131c",
   "metadata": {},
   "source": [
    "Guardamos en un cvs:"
   ]
  },
  {
   "cell_type": "code",
   "execution_count": null,
   "id": "cb89ef59-eec2-4aeb-9656-9ac89f69a9ab",
   "metadata": {
    "tags": []
   },
   "outputs": [],
   "source": [
    "df_quim.to_csv('data.csv', index=False)"
   ]
  },
  {
   "cell_type": "markdown",
   "id": "158c6f66-02f8-49d0-8cf3-a06e140b66e6",
   "metadata": {},
   "source": [
    "# INSPECCIONAMOS LA CANTIDAD DE NIVELES QUE HAY"
   ]
  },
  {
   "cell_type": "code",
   "execution_count": 29,
   "id": "644e7595-301f-4610-be8e-690408654c7d",
   "metadata": {},
   "outputs": [
    {
     "data": {
      "text/html": [
       "<div>\n",
       "<style scoped>\n",
       "    .dataframe tbody tr th:only-of-type {\n",
       "        vertical-align: middle;\n",
       "    }\n",
       "\n",
       "    .dataframe tbody tr th {\n",
       "        vertical-align: top;\n",
       "    }\n",
       "\n",
       "    .dataframe thead th {\n",
       "        text-align: right;\n",
       "    }\n",
       "</style>\n",
       "<table border=\"1\" class=\"dataframe\">\n",
       "  <thead>\n",
       "    <tr style=\"text-align: right;\">\n",
       "      <th></th>\n",
       "      <th>count</th>\n",
       "      <th>%</th>\n",
       "    </tr>\n",
       "    <tr>\n",
       "      <th>OHS</th>\n",
       "      <th></th>\n",
       "      <th></th>\n",
       "    </tr>\n",
       "  </thead>\n",
       "  <tbody>\n",
       "    <tr>\n",
       "      <th>2.0</th>\n",
       "      <td>44</td>\n",
       "      <td>37.288136</td>\n",
       "    </tr>\n",
       "    <tr>\n",
       "      <th>3.0</th>\n",
       "      <td>23</td>\n",
       "      <td>19.491525</td>\n",
       "    </tr>\n",
       "    <tr>\n",
       "      <th>1.0</th>\n",
       "      <td>16</td>\n",
       "      <td>13.559322</td>\n",
       "    </tr>\n",
       "    <tr>\n",
       "      <th>7.0</th>\n",
       "      <td>16</td>\n",
       "      <td>13.559322</td>\n",
       "    </tr>\n",
       "    <tr>\n",
       "      <th>4.0</th>\n",
       "      <td>11</td>\n",
       "      <td>9.322034</td>\n",
       "    </tr>\n",
       "    <tr>\n",
       "      <th>6.0</th>\n",
       "      <td>5</td>\n",
       "      <td>4.237288</td>\n",
       "    </tr>\n",
       "    <tr>\n",
       "      <th>5.0</th>\n",
       "      <td>3</td>\n",
       "      <td>2.542373</td>\n",
       "    </tr>\n",
       "  </tbody>\n",
       "</table>\n",
       "</div>"
      ],
      "text/plain": [
       "     count          %\n",
       "OHS                  \n",
       "2.0     44  37.288136\n",
       "3.0     23  19.491525\n",
       "1.0     16  13.559322\n",
       "7.0     16  13.559322\n",
       "4.0     11   9.322034\n",
       "6.0      5   4.237288\n",
       "5.0      3   2.542373"
      ]
     },
     "metadata": {},
     "output_type": "display_data"
    }
   ],
   "source": [
    "df = pd.DataFrame(pd.DataFrame(df_quim.OHS).value_counts())\n",
    "df['%'] = df['count']/len(df_quim)*100\n",
    "display(df)"
   ]
  },
  {
   "cell_type": "markdown",
   "id": "86629470-9ed6-4ea7-99e1-e63513ad59a3",
   "metadata": {},
   "source": [
    "# INSPECCIONAMOS SEGÚN LA QUÍMICA QUÉ NIVELES HAY"
   ]
  },
  {
   "cell_type": "code",
   "execution_count": 17,
   "id": "136e2831-4562-47ca-98c8-e59f65ad6660",
   "metadata": {},
   "outputs": [
    {
     "data": {
      "text/html": [
       "<div>\n",
       "<style scoped>\n",
       "    .dataframe tbody tr th:only-of-type {\n",
       "        vertical-align: middle;\n",
       "    }\n",
       "\n",
       "    .dataframe tbody tr th {\n",
       "        vertical-align: top;\n",
       "    }\n",
       "\n",
       "    .dataframe thead th {\n",
       "        text-align: right;\n",
       "    }\n",
       "</style>\n",
       "<table border=\"1\" class=\"dataframe\">\n",
       "  <thead>\n",
       "    <tr style=\"text-align: right;\">\n",
       "      <th></th>\n",
       "      <th>count</th>\n",
       "    </tr>\n",
       "    <tr>\n",
       "      <th>OHS</th>\n",
       "      <th></th>\n",
       "    </tr>\n",
       "  </thead>\n",
       "  <tbody>\n",
       "    <tr>\n",
       "      <th>2.0</th>\n",
       "      <td>34</td>\n",
       "    </tr>\n",
       "    <tr>\n",
       "      <th>3.0</th>\n",
       "      <td>10</td>\n",
       "    </tr>\n",
       "    <tr>\n",
       "      <th>7.0</th>\n",
       "      <td>4</td>\n",
       "    </tr>\n",
       "    <tr>\n",
       "      <th>4.0</th>\n",
       "      <td>3</td>\n",
       "    </tr>\n",
       "    <tr>\n",
       "      <th>1.0</th>\n",
       "      <td>1</td>\n",
       "    </tr>\n",
       "    <tr>\n",
       "      <th>6.0</th>\n",
       "      <td>1</td>\n",
       "    </tr>\n",
       "  </tbody>\n",
       "</table>\n",
       "</div>"
      ],
      "text/plain": [
       "     count\n",
       "OHS       \n",
       "2.0     34\n",
       "3.0     10\n",
       "7.0      4\n",
       "4.0      3\n",
       "1.0      1\n",
       "6.0      1"
      ]
     },
     "execution_count": 17,
     "metadata": {},
     "output_type": "execute_result"
    }
   ],
   "source": [
    "pd.DataFrame(df_quim[df_quim.chemistry == 'LCO'].OHS.value_counts())"
   ]
  },
  {
   "cell_type": "code",
   "execution_count": 19,
   "id": "56ae5b26-cf52-46f1-95b1-a1794f23c736",
   "metadata": {},
   "outputs": [
    {
     "data": {
      "text/html": [
       "<div>\n",
       "<style scoped>\n",
       "    .dataframe tbody tr th:only-of-type {\n",
       "        vertical-align: middle;\n",
       "    }\n",
       "\n",
       "    .dataframe tbody tr th {\n",
       "        vertical-align: top;\n",
       "    }\n",
       "\n",
       "    .dataframe thead th {\n",
       "        text-align: right;\n",
       "    }\n",
       "</style>\n",
       "<table border=\"1\" class=\"dataframe\">\n",
       "  <thead>\n",
       "    <tr style=\"text-align: right;\">\n",
       "      <th></th>\n",
       "      <th>count</th>\n",
       "    </tr>\n",
       "    <tr>\n",
       "      <th>OHS</th>\n",
       "      <th></th>\n",
       "    </tr>\n",
       "  </thead>\n",
       "  <tbody>\n",
       "    <tr>\n",
       "      <th>2.0</th>\n",
       "      <td>10</td>\n",
       "    </tr>\n",
       "    <tr>\n",
       "      <th>3.0</th>\n",
       "      <td>7</td>\n",
       "    </tr>\n",
       "  </tbody>\n",
       "</table>\n",
       "</div>"
      ],
      "text/plain": [
       "     count\n",
       "OHS       \n",
       "2.0     10\n",
       "3.0      7"
      ]
     },
     "execution_count": 19,
     "metadata": {},
     "output_type": "execute_result"
    }
   ],
   "source": [
    "pd.DataFrame(df_quim[df_quim.chemistry == 'LFP'].OHS.value_counts())"
   ]
  },
  {
   "cell_type": "code",
   "execution_count": 20,
   "id": "61a85865-7be8-4e84-ae69-aea9e3fa03d2",
   "metadata": {},
   "outputs": [
    {
     "data": {
      "text/html": [
       "<div>\n",
       "<style scoped>\n",
       "    .dataframe tbody tr th:only-of-type {\n",
       "        vertical-align: middle;\n",
       "    }\n",
       "\n",
       "    .dataframe tbody tr th {\n",
       "        vertical-align: top;\n",
       "    }\n",
       "\n",
       "    .dataframe thead th {\n",
       "        text-align: right;\n",
       "    }\n",
       "</style>\n",
       "<table border=\"1\" class=\"dataframe\">\n",
       "  <thead>\n",
       "    <tr style=\"text-align: right;\">\n",
       "      <th></th>\n",
       "      <th>count</th>\n",
       "    </tr>\n",
       "    <tr>\n",
       "      <th>OHS</th>\n",
       "      <th></th>\n",
       "    </tr>\n",
       "  </thead>\n",
       "  <tbody>\n",
       "    <tr>\n",
       "      <th>1.0</th>\n",
       "      <td>15</td>\n",
       "    </tr>\n",
       "    <tr>\n",
       "      <th>7.0</th>\n",
       "      <td>12</td>\n",
       "    </tr>\n",
       "    <tr>\n",
       "      <th>4.0</th>\n",
       "      <td>8</td>\n",
       "    </tr>\n",
       "    <tr>\n",
       "      <th>3.0</th>\n",
       "      <td>6</td>\n",
       "    </tr>\n",
       "    <tr>\n",
       "      <th>6.0</th>\n",
       "      <td>4</td>\n",
       "    </tr>\n",
       "    <tr>\n",
       "      <th>5.0</th>\n",
       "      <td>3</td>\n",
       "    </tr>\n",
       "  </tbody>\n",
       "</table>\n",
       "</div>"
      ],
      "text/plain": [
       "     count\n",
       "OHS       \n",
       "1.0     15\n",
       "7.0     12\n",
       "4.0      8\n",
       "3.0      6\n",
       "6.0      4\n",
       "5.0      3"
      ]
     },
     "execution_count": 20,
     "metadata": {},
     "output_type": "execute_result"
    }
   ],
   "source": [
    "pd.DataFrame(df_quim[df_quim.chemistry == 'NMC'].OHS.value_counts())"
   ]
  },
  {
   "cell_type": "code",
   "execution_count": 22,
   "id": "49035fec-930c-4dd2-a639-7ce7ab1c5b06",
   "metadata": {},
   "outputs": [
    {
     "data": {
      "image/png": "[encoded data removed]",
      "text/plain": [
       "<Figure size 640x480 with 1 Axes>"
      ]
     },
     "metadata": {
      "image/png": {
       "height": 454,
       "width": 563
      }
     },
     "output_type": "display_data"
    }
   ],
   "source": [
    "import seaborn as sns\n",
    "import matplotlib.pyplot as plt\n",
    "\n",
    "# Suponiendo que tienes un DataFrame llamado df con columnas 'categoria' y 'tipo'\n",
    "sns.countplot(data=df_quim, x='OHS', hue='chemistry')\n",
    "plt.title('Frecuencia de OHS según la química')\n",
    "plt.xlabel('OHS')\n",
    "plt.ylabel('Frecuencia')\n",
    "plt.show()"
   ]
  },
  {
   "cell_type": "code",
   "execution_count": 6,
   "id": "e89c5928-e757-44af-86ae-affc36450f36",
   "metadata": {},
   "outputs": [
    {
     "data": {
      "image/png": "[encoded data removed]",
      "text/plain": [
       "<Figure size 1000x600 with 1 Axes>"
      ]
     },
     "metadata": {},
     "output_type": "display_data"
    }
   ],
   "source": [
    "import pandas as pd\n",
    "import seaborn as sns\n",
    "import matplotlib.pyplot as plt\n",
    "\n",
    "df = pd.read_csv('data.csv')\n",
    "# Convertir la columna 'OHS' a enteros\n",
    "df['OHS'] = df['OHS'].astype(int)\n",
    "# Define una paleta de colores más atractiva\n",
    "palette = \"Set2\"\n",
    "\n",
    "# Crea la gráfica\n",
    "plt.figure(figsize=(10, 6))  # Ajusta el tamaño de la figura\n",
    "sns.countplot(data=df, x='OHS', hue='chemistry', palette=palette)  # Utiliza la paleta definida\n",
    "plt.title('Frecuencia de OHS según la química', fontsize=16)  # Ajusta el tamaño de la fuente del título\n",
    "plt.xlabel('OHS', fontsize=14)  # Ajusta el tamaño de la fuente del eje x\n",
    "plt.ylabel('Frecuencia', fontsize=14)  # Ajusta el tamaño de la fuente del eje y\n",
    "plt.legend(title='Química', fontsize=12, title_fontsize=14)  # Añade una leyenda con tamaño de fuente personalizado\n",
    "plt.xticks(fontsize=12, rotation=0)  # Ajusta el tamaño de la fuente y la rotación de las etiquetas del eje x\n",
    "plt.yticks(fontsize=12)  # Ajusta el tamaño de la fuente del eje y\n",
    "sns.despine()  # Elimina las líneas del borde de la gráfica\n",
    "plt.tight_layout()  # Ajusta el espaciado entre los elementos de la gráfica para mejorar la legibilidad\n",
    "plt.show()\n"
   ]
  },
  {
   "cell_type": "markdown",
   "id": "3f2f9a3e-9aba-4390-af61-2ccb59248804",
   "metadata": {},
   "source": [
    "# INSPECCIONAMOS SEGÚN LA QUÍMICA CUÁNTAS OBSERVACIONES HAY"
   ]
  },
  {
   "cell_type": "code",
   "execution_count": 2,
   "id": "77e92f7d-fe53-496f-93aa-f74b6e1e91e1",
   "metadata": {},
   "outputs": [],
   "source": [
    "import numpy as np\n",
    "import pandas as pd\n",
    "df_data = pd.read_csv('data.csv')"
   ]
  },
  {
   "cell_type": "code",
   "execution_count": 5,
   "id": "995f4b69-b46f-4ab1-9baa-64429cd51c50",
   "metadata": {},
   "outputs": [
    {
     "data": {
      "text/html": [
       "<div>\n",
       "<style scoped>\n",
       "    .dataframe tbody tr th:only-of-type {\n",
       "        vertical-align: middle;\n",
       "    }\n",
       "\n",
       "    .dataframe tbody tr th {\n",
       "        vertical-align: top;\n",
       "    }\n",
       "\n",
       "    .dataframe thead th {\n",
       "        text-align: right;\n",
       "    }\n",
       "</style>\n",
       "<table border=\"1\" class=\"dataframe\">\n",
       "  <thead>\n",
       "    <tr style=\"text-align: right;\">\n",
       "      <th></th>\n",
       "      <th>count</th>\n",
       "    </tr>\n",
       "    <tr>\n",
       "      <th>chemistry</th>\n",
       "      <th></th>\n",
       "    </tr>\n",
       "  </thead>\n",
       "  <tbody>\n",
       "    <tr>\n",
       "      <th>LCO</th>\n",
       "      <td>53</td>\n",
       "    </tr>\n",
       "    <tr>\n",
       "      <th>NMC</th>\n",
       "      <td>48</td>\n",
       "    </tr>\n",
       "    <tr>\n",
       "      <th>LFP</th>\n",
       "      <td>17</td>\n",
       "    </tr>\n",
       "  </tbody>\n",
       "</table>\n",
       "</div>"
      ],
      "text/plain": [
       "           count\n",
       "chemistry       \n",
       "LCO           53\n",
       "NMC           48\n",
       "LFP           17"
      ]
     },
     "execution_count": 5,
     "metadata": {},
     "output_type": "execute_result"
    }
   ],
   "source": [
    "pd.DataFrame(df_data.chemistry.value_counts())"
   ]
  },
  {
   "cell_type": "markdown",
   "id": "45b3b1b2-0f4c-45da-ae89-0dc388ed00c4",
   "metadata": {},
   "source": [
    "# INSPECCIONAMOS SEGÚN LA QUÍMICA LOS RANGOS DE CAPACIDAD Y SOC QUE HAY"
   ]
  },
  {
   "cell_type": "code",
   "execution_count": 31,
   "id": "4ddd52f9-4ea7-4dc1-ba5c-5c865e531df6",
   "metadata": {},
   "outputs": [
    {
     "data": {
      "text/plain": [
       "[500, 1500, 2000, 6270, 6340, 6400, 6470, 6490, 6500, 6550, 6560]"
      ]
     },
     "execution_count": 31,
     "metadata": {},
     "output_type": "execute_result"
    }
   ],
   "source": [
    "sorted(df_data[df_data.chemistry=='LCO'].capacity.unique())"
   ]
  },
  {
   "cell_type": "code",
   "execution_count": 32,
   "id": "1bc94146-b6fd-47a3-b231-de3fb059c848",
   "metadata": {},
   "outputs": [
    {
     "data": {
      "text/plain": [
       "[10000]"
      ]
     },
     "execution_count": 32,
     "metadata": {},
     "output_type": "execute_result"
    }
   ],
   "source": [
    "sorted(df_data[df_data.chemistry=='LFP'].capacity.unique())\n"
   ]
  },
  {
   "cell_type": "code",
   "execution_count": 33,
   "id": "be0f081d-4d42-4f1a-9d66-9cbd7029aebc",
   "metadata": {},
   "outputs": [
    {
     "data": {
      "text/plain": [
       "[4160,\n",
       " 4620,\n",
       " 4630,\n",
       " 4700,\n",
       " 4720,\n",
       " 4870,\n",
       " 4960,\n",
       " 5010,\n",
       " 5030,\n",
       " 5050,\n",
       " 5070,\n",
       " 5080,\n",
       " 5100,\n",
       " 5120,\n",
       " 5170,\n",
       " 5180,\n",
       " 5190,\n",
       " 10000]"
      ]
     },
     "execution_count": 33,
     "metadata": {},
     "output_type": "execute_result"
    }
   ],
   "source": [
    "sorted(df_data[df_data.chemistry=='NMC'].capacity.unique())\n"
   ]
  },
  {
   "cell_type": "code",
   "execution_count": 28,
   "id": "61ed55a9-3071-4421-89dc-55602a3957b2",
   "metadata": {},
   "outputs": [
    {
     "data": {
      "text/plain": [
       "[0, 20, 40, 60, 80, 100]"
      ]
     },
     "execution_count": 28,
     "metadata": {},
     "output_type": "execute_result"
    }
   ],
   "source": [
    "sorted(df_data[df_data.chemistry=='LCO'].SOC.unique())"
   ]
  },
  {
   "cell_type": "code",
   "execution_count": 29,
   "id": "fa213f9c-3185-4a60-b26f-3f019956987a",
   "metadata": {},
   "outputs": [
    {
     "data": {
      "text/plain": [
       "[0, 20, 40, 60, 70, 80, 100]"
      ]
     },
     "execution_count": 29,
     "metadata": {},
     "output_type": "execute_result"
    }
   ],
   "source": [
    "sorted(df_data[df_data.chemistry=='LFP'].SOC.unique())\n"
   ]
  },
  {
   "cell_type": "code",
   "execution_count": 30,
   "id": "ec81d393-f1c7-497c-8a15-aecb7f317c77",
   "metadata": {},
   "outputs": [
    {
     "data": {
      "text/plain": [
       "[0, 10, 20, 30, 40, 45, 50, 55, 60, 70, 80, 90, 100]"
      ]
     },
     "execution_count": 30,
     "metadata": {},
     "output_type": "execute_result"
    }
   ],
   "source": [
    "sorted(df_data[df_data.chemistry=='NMC'].SOC.unique())\n"
   ]
  },
  {
   "cell_type": "code",
   "execution_count": null,
   "id": "052ae763-3a1f-4985-80b5-afdc015714f7",
   "metadata": {},
   "outputs": [],
   "source": []
  }
 ],
 "metadata": {
  "kernelspec": {
   "display_name": "Python 3 (ipykernel)",
   "language": "python",
   "name": "python3"
  },
  "language_info": {
   "codemirror_mode": {
    "name": "ipython",
    "version": 3
   },
   "file_extension": ".py",
   "mimetype": "text/x-python",
   "name": "python",
   "nbconvert_exporter": "python",
   "pygments_lexer": "ipython3",
   "version": "3.11.5"
  }
 },
 "nbformat": 4,
 "nbformat_minor": 5
}
